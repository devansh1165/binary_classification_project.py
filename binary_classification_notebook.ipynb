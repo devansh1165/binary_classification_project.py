{
 "cells": [
  {
   "cell_type": "markdown",
   "metadata": {},
   "source": [
    "# Binary Classification Project - Interactive Notebook\n",
    "\n",
    "This notebook provides an interactive environment to explore binary classification techniques.\n",
    "\n",
    "## Table of Contents\n",
    "1. [Setup and Imports](#setup)\n",
    "2. [Data Loading and Exploration](#data)\n",
    "3. [Model Training](#training)\n",
    "4. [Results and Evaluation](#results)\n",
    "5. [Advanced Analysis](#advanced)"
   ]
  },
  {
   "cell_type": "markdown",
   "metadata": {},
   "source": [
    "## 1. Setup and Imports {#setup}"
   ]
  },
  {
   "cell_type": "code",
   "execution_count": null,
   "metadata": {},
   "outputs": [],
   "source": [
    "# Import the binary classification project\n",
    "from binary_classification_project import BinaryClassifier\n",
    "from sklearn.datasets import load_breast_cancer, make_classification\n",
    "import pandas as pd\n",
    "import numpy as np\n",
    "import matplotlib.pyplot as plt\n",
    "\n",
    "# Configure matplotlib for inline plotting\n",
    "%matplotlib inline\n",
    "\n",
    "print(\"Setup complete!\")"
   ]
  },
  {
   "cell_type": "markdown",
   "metadata": {},
   "source": [
    "## 2. Data Loading and Exploration {#data}"
   ]
  },
  {
   "cell_type": "code",
   "execution_count": null,
   "metadata": {},
   "outputs": [],
   "source": [
    "# Initialize classifier\n",
    "classifier = BinaryClassifier(random_state=42)\n",
    "\n",
    "# Option 1: Create sample data\n",
    "X, y = classifier.create_sample_data(n_samples=1000, n_features=10)\n",
    "\n",
    "# Option 2: Use real dataset (uncomment to use)\n",
    "# data = load_breast_cancer()\n",
    "# X, y = data.data, data.target\n",
    "\n",
    "classifier.load_data(X, y)"
   ]
  },
  {
   "cell_type": "code",
   "execution_count": null,
   "metadata": {},
   "outputs": [],
   "source": [
    "# Explore the data\n",
    "print(f\"Dataset shape: {X.shape}\")\n",
    "print(f\"Class distribution: {pd.Series(y).value_counts().to_dict()}\")\n",
    "\n",
    "# Basic statistics\n",
    "if hasattr(classifier, 'data'):\n",
    "    print(\"\\nDataset info:\")\n",
    "    print(classifier.data.info())\n",
    "    print(\"\\nBasic statistics:\")\n",
    "    print(classifier.data.describe())"
   ]
  },
  {
   "cell_type": "markdown",
   "metadata": {},
   "source": [
    "## 3. Model Training {#training}"
   ]
  },
  {
   "cell_type": "code",
   "execution_count": null,
   "metadata": {},
   "outputs": [],
   "source": [
    "# Preprocess data\n",
    "classifier.preprocess_data(test_size=0.2)\n",
    "\n",
    "# Initialize and train models\n",
    "classifier.initialize_models()\n",
    "classifier.train_and_evaluate()"
   ]
  },
  {
   "cell_type": "markdown",
   "metadata": {},
   "source": [
    "## 4. Results and Evaluation {#results}"
   ]
  },
  {
   "cell_type": "code",
   "execution_count": null,
   "metadata": {},
   "outputs": [],
   "source": [
    "# Generate visualizations\n",
    "classifier.plot_results()"
   ]
  },
  {
   "cell_type": "code",
   "execution_count": null,
   "metadata": {},
   "outputs": [],
   "source": [
    "# Generate comprehensive report\n",
    "classifier.generate_report()"
   ]
  },
  {
   "cell_type": "markdown",
   "metadata": {},
   "source": [
    "## 5. Advanced Analysis {#advanced}"
   ]
  },
  {
   "cell_type": "code",
   "execution_count": null,
   "metadata": {},
   "outputs": [],
   "source": [
    "# Hyperparameter tuning example\n",
    "best_rf = classifier.hyperparameter_tuning('Random Forest')"
   ]
  },
  {
   "cell_type": "code",
   "execution_count": null,
   "metadata": {},
   "outputs": [],
   "source": [
    "# Make predictions on new data\n",
    "X_new, _ = make_classification(n_samples=5, n_features=X.shape[1], random_state=99)\n",
    "predictions, probabilities = classifier.predict_new_data(X_new)\n",
    "\n",
    "print(\"Predictions on new data:\")\n",
    "for i, (pred, prob) in enumerate(zip(predictions, probabilities)):\n",
    "    print(f\"Sample {i+1}: Class {pred} (Probability: {prob:.3f})\")"
   ]
  },
  {
   "cell_type": "code",
   "execution_count": null,
   "metadata": {},
   "outputs": [],
   "source": [
    "# Custom analysis - Add your own code here\n",
    "print(\"Add your custom analysis here!\")\n",
    "\n",
    "# Example: Access individual model results\n",
    "for model_name, results in classifier.results.items():\n",
    "    print(f\"{model_name}: F1-Score = {results['f1_score']:.4f}\")"
   ]
  }
 ],
 "metadata": {
  "kernelspec": {
   "display_name": "Python 3",
   "language": "python",
   "name": "python3"
  },
  "language_info": {
   "codemirror_mode": {
    "name": "ipython",
    "version": 3
   },
   "file_extension": ".py",
   "name": "python",
   "nbconvert_exporter": "python",
   "pygments_lexer": "ipython3",
   "version": "3.8.0"
  }
 },
 "nbformat": 4,
 "nbformat_minor": 4
}